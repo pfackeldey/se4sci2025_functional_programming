{
  "nbformat": 4,
  "nbformat_minor": 0,
  "metadata": {
    "colab": {
      "provenance": []
    },
    "kernelspec": {
      "name": "python3",
      "display_name": "Python 3"
    },
    "language_info": {
      "name": "python"
    }
  },
  "cells": [
    {
      "cell_type": "code",
      "source": [
        "# All we need for functional programming in Python\n",
        "import functools\n",
        "import operator"
      ],
      "metadata": {
        "id": "l56mSqA9W-_8"
      },
      "execution_count": 1,
      "outputs": []
    },
    {
      "cell_type": "code",
      "execution_count": 2,
      "metadata": {
        "colab": {
          "base_uri": "https://localhost:8080/"
        },
        "id": "xlSC5LJxWlUU",
        "outputId": "225fcc0a-036f-40dd-d5be-ea65a48899c5"
      },
      "outputs": [
        {
          "output_type": "stream",
          "name": "stdout",
          "text": [
            "1 + 2 = 3\n",
            "10 (+ 3) (+ 3) = 16\n",
            "Hip Hip Hurray!\n"
          ]
        }
      ],
      "source": [
        "# Currying Haskell example to add 1\n",
        "# ```haskell\n",
        "#   let addOne = (+ 1)\n",
        "#   putStrLn $ \"1 + 2 = \" ++ show (addOne 2)\n",
        "#   >> 1 + 2 = 3\n",
        "# ```\n",
        "#\n",
        "# Python equivalent:\n",
        "# - functools.partial: allows currying\n",
        "# - operator.add: is the addition function\n",
        "addOne = functools.partial(operator.add, 1)\n",
        "print(\"1 + 2 =\", addOne(2))\n",
        "\n",
        "# Currying Haskell example to add a function twice\n",
        "# ```haskell\n",
        "#   let applyFnTwice f x = f (f x)\n",
        "#   let addThreeTwice = applyFnTwice (+ 3)\n",
        "#   putStrLn $ \"10 (+ 3) (+ 3) = \" ++ show (addThreeTwice 10)\n",
        "#   >> 10 (+ 3) (+ 3) = 16\n",
        "# ```\n",
        "#\n",
        "# Python equivalent:\n",
        "def applyFnTwice(f, x):\n",
        "  return f(f(x))\n",
        "\n",
        "addThree = functools.partial(operator.add, 3)\n",
        "addThreeTwice = functools.partial(applyFnTwice, addThree)\n",
        "\n",
        "print(\"10 (+ 3) (+ 3) =\", addThreeTwice(10))\n",
        "\n",
        "# Another applyFnTwice example\n",
        "# ```haskell\n",
        "#   let hipHip = applyFnTwice (\"Hip \" ++)\n",
        "#   putStrLn $ hipHip \"Hurray!\"\n",
        "#   >> Hip Hip Hurray!\n",
        "# ```\n",
        "#\n",
        "# Python equivalent:\n",
        "hipHip = functools.partial(applyFnTwice, \"Hip {}\".format)\n",
        "print(hipHip(\"Hurray!\"))"
      ]
    },
    {
      "cell_type": "code",
      "source": [
        "values = [2, 1, 5, 3, 4]"
      ],
      "metadata": {
        "id": "sjCeRtLL5M68"
      },
      "execution_count": 3,
      "outputs": []
    },
    {
      "cell_type": "code",
      "source": [
        "# Recursion Haskell example for `map`\n",
        "# ```haskell\n",
        "#   let map' :: (a -> b) -> [a] -> [b]\n",
        "#       map' _ [] = []\n",
        "#       map' f (x : xs) = f x : map' f xs\n",
        "#\n",
        "#   let addOneToEach = map' addOne\n",
        "#   putStrLn $ \"Increase each value from \" ++ show values ++ \" by 1: \" ++ show (addOneToEach values)\n",
        "#   >> Increase each value from [2,1,5,3,4] by 1: [3,2,6,4,5]\n",
        "# ```\n",
        "#\n",
        "# Python equivalent:\n",
        "def map_(f, xs):\n",
        "  # empty list case\n",
        "  if not xs:\n",
        "    return []\n",
        "  # first element: [f(xs[0])]\n",
        "  # recurse through remaining ones: map_(f, xs[1:])\n",
        "  return [f(xs[0])] + map_(f, xs[1:])\n",
        "\n",
        "addOneToEach = functools.partial(map_, addOne)\n",
        "print(f\"Increase each value from {values} by 1:\", addOneToEach(values))\n",
        "\n",
        "# There's also a builtin `map`!\n",
        "assert addOneToEach(values) == list(map(addOne, values))"
      ],
      "metadata": {
        "colab": {
          "base_uri": "https://localhost:8080/"
        },
        "id": "0kllH8QU5R-W",
        "outputId": "fc703f74-4c26-4abd-e543-b3c898ea0397"
      },
      "execution_count": 4,
      "outputs": [
        {
          "output_type": "stream",
          "name": "stdout",
          "text": [
            "Increase each value from [2, 1, 5, 3, 4] by 1: [3, 2, 6, 4, 5]\n"
          ]
        }
      ]
    },
    {
      "cell_type": "code",
      "source": [
        "# Recursion Haskell example for `filter`\n",
        "# ```haskell\n",
        "#   let filter' :: (a -> Bool) -> [a] -> [a]\n",
        "#       filter' _ [] = []\n",
        "#       filter' p (x : xs)\n",
        "#         | p x = x : filter' p xs\n",
        "#         | otherwise = filter' p xs\n",
        "#\n",
        "#   let selectEqThree = filter' (== 3)\n",
        "#   let values = [2, 1, 5, 3, 4]\n",
        "#   putStrLn $ \"Select only the 3 from \" ++ show values ++ \": \" ++ show (selectEqThree values)\n",
        "#   >> Select only the 3 from [2,1,5,3,4]: [3]\n",
        "# ```\n",
        "#\n",
        "# Python equivalent:\n",
        "def filter_(p, xs):\n",
        "  # empty list case\n",
        "  if not xs:\n",
        "    return []\n",
        "  # recurse through `xs`, keep `xs[0]` if p(xs[0]) == True\n",
        "  return ([xs[0]] if p(xs[0]) else []) + filter_(p, xs[1:])\n",
        "\n",
        "\n",
        "# double-currying\n",
        "selectEqThree = functools.partial(filter_, functools.partial(operator.eq, 3))\n",
        "print(f\"Select only the 3 from {values}:\", selectEqThree(values))\n",
        "\n",
        "# There's also a builtin `filter`!\n",
        "assert selectEqThree(values) == list(filter(functools.partial(operator.eq, 3), values))"
      ],
      "metadata": {
        "colab": {
          "base_uri": "https://localhost:8080/"
        },
        "id": "NKR5zUA45S0x",
        "outputId": "5a49892e-144e-4d79-ff2c-c5191535e69a"
      },
      "execution_count": 5,
      "outputs": [
        {
          "output_type": "stream",
          "name": "stdout",
          "text": [
            "Select only the 3 from [2, 1, 5, 3, 4]: [3]\n"
          ]
        }
      ]
    },
    {
      "cell_type": "code",
      "source": [
        "# Recursion Haskell example for `reduce`\n",
        "# ```haskell\n",
        "#   let reduce' :: (a -> b -> a) -> a -> [b] -> a\n",
        "#       reduce' f acc [] = acc\n",
        "#       reduce' f acc (x : xs) = reduce' f (f acc x) xs\n",
        "#\n",
        "#   let reduceMultiply = reduce' (*) 1\n",
        "#   putStrLn $ \"Reduce \" ++ show values ++ \" through multiplication into: \" ++ show (reduceMultiply values)\n",
        "#   >> Reduce [2,1,5,3,4] through multiplication into: 120\n",
        "# ```\n",
        "#\n",
        "# Python equivalent:\n",
        "def reduce_(f, acc, xs):\n",
        "  if not xs:\n",
        "    return acc\n",
        "  return reduce_(f, f(acc, xs[0]), xs[1:])\n",
        "\n",
        "reduceMultiply = functools.partial(functools.partial(reduce_, operator.mul), 1)\n",
        "print(f\"Reduce {values} through multiplication into:\", reduceMultiply(values))\n",
        "\n",
        "# There's also a builtin `reduce`!\n",
        "assert reduceMultiply(values) == functools.reduce(operator.mul, values, 1)"
      ],
      "metadata": {
        "colab": {
          "base_uri": "https://localhost:8080/"
        },
        "id": "TJSChBJk5Ydw",
        "outputId": "0bcc625e-1a8c-4541-ce62-6a8493290c8e"
      },
      "execution_count": 6,
      "outputs": [
        {
          "output_type": "stream",
          "name": "stdout",
          "text": [
            "Reduce [2, 1, 5, 3, 4] through multiplication into: 120\n"
          ]
        }
      ]
    },
    {
      "cell_type": "code",
      "source": [
        "# Recursion Haskell example for `sum`\n",
        "# ```haskell\n",
        "#   let sum' :: (Num a) => [a] -> a\n",
        "#       sum' [] = 0\n",
        "#       sum' (x : xs) = x + sum' xs\n",
        "#   putStrLn $ \"Summing \" ++ show values ++ \": \" ++ show (sum' values)\n",
        "#   >> Summing [2,1,5,3,4]: 15\n",
        "# ```\n",
        "#\n",
        "# Python equivalent:\n",
        "def sum_(vals):\n",
        "  # empty list case\n",
        "  if not vals:\n",
        "    return 0\n",
        "  # recurse\n",
        "  return vals[0] + sum_(vals[1:])\n",
        "\n",
        "print(f\"Summing {values}:\", sum_(values))\n",
        "\n",
        "# Or use `reduce` from before:\n",
        "reduceAdd = functools.partial(functools.partial(reduce_, operator.add), 0)\n",
        "print(f\"Summing (reduce) {values}:\", reduceAdd(values))"
      ],
      "metadata": {
        "colab": {
          "base_uri": "https://localhost:8080/"
        },
        "id": "yupLoYg75fb1",
        "outputId": "beb716a5-6175-49ed-e518-f7f623f7e916"
      },
      "execution_count": 7,
      "outputs": [
        {
          "output_type": "stream",
          "name": "stdout",
          "text": [
            "Summing [2, 1, 5, 3, 4]: 15\n",
            "Summing (reduce) [2, 1, 5, 3, 4]: 15\n"
          ]
        }
      ]
    },
    {
      "cell_type": "code",
      "source": [
        "# Some more complex examples:\n",
        "\n",
        "# Recursion Haskell example for Fibonacci sequence\n",
        "# ```haskell\n",
        "#   let fib :: Int -> Int\n",
        "#       fib 0 = 1\n",
        "#       fib 1 = 1\n",
        "#       fib n = fib (n - 1) + fib (n - 2)\n",
        "#   putStrLn $ \"Fibonacci(12) = \" ++ show (fib 12)\n",
        "#   >> Fibonacci(12) = 233\n",
        "# ```\n",
        "#\n",
        "# Python equivalent:\n",
        "def fib(n):\n",
        "  # edge case conditions\n",
        "  if n == 0 or n == 1:\n",
        "    return 1\n",
        "  # recurse\n",
        "  return fib (n - 1) + fib (n - 2)\n",
        "\n",
        "print(\"Fibonacci(12) =\", fib(12))\n",
        "\n",
        "\n",
        "# Recursion Haskell example for quicksort:\n",
        "# ```haskell\n",
        "#   let quicksort :: (Ord a) => [a] -> [a]\n",
        "#       quicksort [] = []\n",
        "#       quicksort (x : xs) =\n",
        "#         let smallerSorted = quicksort (filter (<= x) xs)\n",
        "#             biggerSorted = quicksort (filter (> x) xs)\n",
        "#          in smallerSorted ++ [x] ++ biggerSorted\n",
        "#\n",
        "#   let sortedValues = quicksort values\n",
        "#   putStrLn $ \"Sorting \" ++ show values ++ \" results in \" ++ show sortedValues\n",
        "#   >> Sorting [2,1,5,3,4] results in [1,2,3,4,5]\n",
        "# ```\n",
        "#\n",
        "# Python equivalent:\n",
        "def quicksort(xs):\n",
        "  # empty list case\n",
        "  if not xs:\n",
        "    return []\n",
        "  # recurse\n",
        "  smallerSorted = quicksort(filter_(functools.partial(operator.ge, xs[0]), xs[1:]))\n",
        "  biggerSorted = quicksort(filter_(functools.partial(operator.lt, xs[0]), xs[1:]))\n",
        "  return smallerSorted + [xs[0]] + biggerSorted\n",
        "\n",
        "\n",
        "print(f\"Sorting {values} results in\", quicksort(values))"
      ],
      "metadata": {
        "colab": {
          "base_uri": "https://localhost:8080/"
        },
        "id": "ancJ6tVIY0Yr",
        "outputId": "486e3300-4a89-4a06-ea5c-910d4a120274"
      },
      "execution_count": 8,
      "outputs": [
        {
          "output_type": "stream",
          "name": "stdout",
          "text": [
            "Fibonacci(12) = 233\n",
            "Sorting [2, 1, 5, 3, 4] results in [1, 2, 3, 4, 5]\n"
          ]
        }
      ]
    },
    {
      "cell_type": "code",
      "source": [
        "# Lambdas:\n",
        "listOfTuples = [(1, 1), (2, 2), (3, 3), (4, 4), (5, 5)]\n",
        "\n",
        "# Lambda Haskell example for summing all tuples inside a list\n",
        "# ```haskell\n",
        "#   let sumAllTuples = map' (\\(a, b) -> (+ a) b)\n",
        "#   putStrLn $ \"Summing up all tuples inside \" ++ show listOfTuples ++ \" yields: \" ++ show (sumAllTuples listOfTuples)\n",
        "#   >> Summing up all tuples inside [(1,1),(2,2),(3,3),(4,4),(5,5)] yields: [2,4,6,8,10]\n",
        "# ```\n",
        "#\n",
        "# Python equivalent:\n",
        "sumAllTuples = functools.partial(map_, lambda x: x[0] + x[1])\n",
        "print(f\"Summing up all tuples inside {listOfTuples} yields:\", sumAllTuples(listOfTuples))\n",
        "\n",
        "# Lambda Haskell example for flipping the arguments of a function `f`\n",
        "# ```haskell\n",
        "#   let flip' :: (a -> b -> c) -> b -> a -> c\n",
        "#       flip' f = \\x y -> f y x\n",
        "#\n",
        "#   let flipped_substraction = flip' (-)\n",
        "#   putStrLn $ \"Flipping `3-1` to `1-3`: \" ++ show (flipped_substraction 3 1)\n",
        "#   >> Flipping `3-1` to `1-3`: -2\n",
        "# ```\n",
        "#\n",
        "# Python equivalent:\n",
        "def flip(f):\n",
        "  return lambda x,y: f(y, x)\n",
        "\n",
        "flipped_substraction = flip(operator.sub)\n",
        "print(\"Flipping `3-1` to `1-3`:\", flipped_substraction(3, 1))"
      ],
      "metadata": {
        "colab": {
          "base_uri": "https://localhost:8080/"
        },
        "id": "SGKDi8c5eYTF",
        "outputId": "b7239b3f-ed63-44f4-9156-93e40a083e36"
      },
      "execution_count": 9,
      "outputs": [
        {
          "output_type": "stream",
          "name": "stdout",
          "text": [
            "Summing up all tuples inside [(1, 1), (2, 2), (3, 3), (4, 4), (5, 5)] yields: [2, 4, 6, 8, 10]\n",
            "Flipping `3-1` to `1-3`: -2\n"
          ]
        }
      ]
    }
  ]
}
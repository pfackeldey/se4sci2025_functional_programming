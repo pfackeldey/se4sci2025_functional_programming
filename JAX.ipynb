{
  "nbformat": 4,
  "nbformat_minor": 0,
  "metadata": {
    "colab": {
      "provenance": []
    },
    "kernelspec": {
      "name": "python3",
      "display_name": "Python 3"
    },
    "language_info": {
      "name": "python"
    }
  },
  "cells": [
    {
      "cell_type": "code",
      "source": [
        "# JAX\n",
        "import jax\n",
        "import jax.numpy as jnp"
      ],
      "metadata": {
        "id": "Uod6G_VwOsBy"
      },
      "execution_count": 1,
      "outputs": []
    },
    {
      "cell_type": "code",
      "source": [
        "# Immutability\n",
        "array = jnp.ones(10)\n",
        "#array[0] = 0\n",
        "\n",
        "# do this instead (returns a copy):\n",
        "# modified_array = array.at[0].set(0)\n",
        "# modified_array"
      ],
      "metadata": {
        "id": "o4SQ2r0mO7_F"
      },
      "execution_count": 2,
      "outputs": []
    },
    {
      "cell_type": "code",
      "source": [
        "rng = jax.random.key(42)\n",
        "a_key, b_key = jax.random.split(rng)\n",
        "\n",
        "a = jax.random.uniform(a_key, shape=1_000_000, minval=5, maxval=10)\n",
        "b = jax.random.uniform(b_key, shape=1_000_000, minval=10, maxval=20)\n",
        "\n",
        "\n",
        "def quadratic_formula(a, b):\n",
        "  return (-b + jax.numpy.sqrt(b**2 - 4*a)) / (2*a)\n",
        "\n",
        "\n",
        "# JAX represents a program internally with a \"JaxPr\".\n",
        "# JaxPr is an intermediate representation (IR) inspired\n",
        "# by functional programming languages (~Lisp-y)\n",
        "#   lambda, no mutation, operator arg1 arg2 ...\n",
        "jax.make_jaxpr(quadratic_formula)(a, b)"
      ],
      "metadata": {
        "colab": {
          "base_uri": "https://localhost:8080/"
        },
        "id": "mGQeEa0TO-eL",
        "outputId": "c3627dbe-7975-4fc8-a976-d6beec8632d0"
      },
      "execution_count": 3,
      "outputs": [
        {
          "output_type": "execute_result",
          "data": {
            "text/plain": [
              "{ lambda ; a:f32[1000000] b:f32[1000000]. let\n",
              "    c:f32[1000000] = neg b\n",
              "    d:f32[1000000] = integer_pow[y=2] b\n",
              "    e:f32[1000000] = mul 4.0 a\n",
              "    f:f32[1000000] = sub d e\n",
              "    g:f32[1000000] = sqrt f\n",
              "    h:f32[1000000] = add c g\n",
              "    i:f32[1000000] = mul 2.0 a\n",
              "    j:f32[1000000] = div h i\n",
              "  in (j,) }"
            ]
          },
          "metadata": {},
          "execution_count": 3
        }
      ]
    },
    {
      "cell_type": "code",
      "source": [
        "# this IR can be transformed, e.g.:\n",
        "fast_quadratic_formula = jax.jit(quadratic_formula)\n",
        "jax.make_jaxpr(fast_quadratic_formula)(a, b)  # closure!"
      ],
      "metadata": {
        "colab": {
          "base_uri": "https://localhost:8080/"
        },
        "id": "vfY94-WhP-wR",
        "outputId": "c81b9a54-89ba-4ad2-8706-12f4205e1e5f"
      },
      "execution_count": 4,
      "outputs": [
        {
          "output_type": "execute_result",
          "data": {
            "text/plain": [
              "{ lambda ; a:f32[1000000] b:f32[1000000]. let\n",
              "    c:f32[1000000] = pjit[\n",
              "      name=quadratic_formula\n",
              "      jaxpr={ lambda ; d:f32[1000000] e:f32[1000000]. let\n",
              "          f:f32[1000000] = neg e\n",
              "          g:f32[1000000] = integer_pow[y=2] e\n",
              "          h:f32[1000000] = mul 4.0 d\n",
              "          i:f32[1000000] = sub g h\n",
              "          j:f32[1000000] = sqrt i\n",
              "          k:f32[1000000] = add f j\n",
              "          l:f32[1000000] = mul 2.0 d\n",
              "          m:f32[1000000] = div k l\n",
              "        in (m,) }\n",
              "    ] a b\n",
              "  in (c,) }"
            ]
          },
          "metadata": {},
          "execution_count": 4
        }
      ]
    },
    {
      "cell_type": "code",
      "source": [
        "print(\"\\nOriginal:\")\n",
        "%timeit -n 10 quadratic_formula(a, b)\n",
        "\n",
        "\n",
        "print(\"\\nJIT (with compile-time):\")\n",
        "%timeit -n 1 fast_quadratic_formula(a, b).block_until_ready()\n",
        "\n",
        "print(\"\\nJIT (without compile-time):\")\n",
        "%timeit -n 10 fast_quadratic_formula(a, b).block_until_ready()\n",
        "\n",
        "\n",
        "# why is that? -> intermediate arrays\n",
        "def pedantic_quadratic_formula(a, b):\n",
        "  tmp1 = jnp.negative(b)            # -b\n",
        "  tmp2 = jnp.square(b)              # b**2\n",
        "  tmp3 = jnp.multiply(4, a)         # 4*a\n",
        "  tmp4 = jnp.subtract(tmp2, tmp3)   # tmp2 - tmp3\n",
        "  del tmp2, tmp3\n",
        "  tmp5 = jnp.sqrt(tmp4)             # sqrt(tmp4)\n",
        "  del tmp4\n",
        "  tmp6 = jnp.add(tmp1, tmp5)        # tmp1 + tmp5\n",
        "  del tmp1, tmp5\n",
        "  tmp7 = jnp.multiply(2, a)         # 2*a\n",
        "  return jnp.divide(tmp6, tmp7)     # tmp6 / tmp7\n",
        "\n",
        "\n",
        "print(\"\\nOriginal - written out:\")\n",
        "%timeit -n 10 pedantic_quadratic_formula(a, b)"
      ],
      "metadata": {
        "colab": {
          "base_uri": "https://localhost:8080/"
        },
        "id": "gmgKTDg9PFCj",
        "outputId": "c4ea69e8-484c-4849-ba5d-e1faf3889e65"
      },
      "execution_count": 5,
      "outputs": [
        {
          "output_type": "stream",
          "name": "stdout",
          "text": [
            "\n",
            "Original:\n",
            "The slowest run took 5.04 times longer than the fastest. This could mean that an intermediate result is being cached.\n",
            "16.1 ms ± 11.9 ms per loop (mean ± std. dev. of 7 runs, 10 loops each)\n",
            "\n",
            "JIT (with compile-time):\n",
            "The slowest run took 90.34 times longer than the fastest. This could mean that an intermediate result is being cached.\n",
            "13.8 ms ± 31 ms per loop (mean ± std. dev. of 7 runs, 1 loop each)\n",
            "\n",
            "JIT (without compile-time):\n",
            "1.08 ms ± 252 µs per loop (mean ± std. dev. of 7 runs, 10 loops each)\n",
            "\n",
            "Original - written out:\n",
            "10.4 ms ± 2.28 ms per loop (mean ± std. dev. of 7 runs, 10 loops each)\n"
          ]
        }
      ]
    },
    {
      "cell_type": "code",
      "source": [
        "# Eager\n",
        "print(jax.make_jaxpr(quadratic_formula)(1.0, 2.0))\n",
        "\n",
        "print()\n",
        "\n",
        "# Gradient: transform program (JaxPr) into the differentiated version of it\n",
        "grad_quadratic_formula = jax.grad(quadratic_formula)\n",
        "print(jax.make_jaxpr(grad_quadratic_formula)(1.0, 2.0))"
      ],
      "metadata": {
        "colab": {
          "base_uri": "https://localhost:8080/"
        },
        "id": "aCu---v7Ywrc",
        "outputId": "207d7c3c-fbf2-427f-990e-0f22d682f139"
      },
      "execution_count": 6,
      "outputs": [
        {
          "output_type": "stream",
          "name": "stdout",
          "text": [
            "{ lambda ; a:f32[] b:f32[]. let\n",
            "    c:f32[] = neg b\n",
            "    d:f32[] = integer_pow[y=2] b\n",
            "    e:f32[] = mul 4.0 a\n",
            "    f:f32[] = sub d e\n",
            "    g:f32[] = sqrt f\n",
            "    h:f32[] = add c g\n",
            "    i:f32[] = mul 2.0 a\n",
            "    j:f32[] = div h i\n",
            "  in (j,) }\n",
            "\n",
            "{ lambda ; a:f32[] b:f32[]. let\n",
            "    c:f32[] = neg b\n",
            "    d:f32[] = integer_pow[y=2] b\n",
            "    e:f32[] = mul 4.0 a\n",
            "    f:f32[] = sub d e\n",
            "    g:f32[] = sqrt f\n",
            "    h:f32[] = div 0.5 g\n",
            "    i:f32[] = add c g\n",
            "    j:f32[] = mul 2.0 a\n",
            "    _:f32[] = div i j\n",
            "    k:f32[] = integer_pow[y=-2] j\n",
            "    l:f32[] = mul 1.0 k\n",
            "    m:f32[] = mul l i\n",
            "    n:f32[] = neg m\n",
            "    o:f32[] = div 1.0 j\n",
            "    p:f32[] = mul 2.0 n\n",
            "    q:f32[] = mul o h\n",
            "    r:f32[] = neg q\n",
            "    s:f32[] = mul 4.0 r\n",
            "    t:f32[] = add_any p s\n",
            "  in (t,) }\n"
          ]
        }
      ]
    }
  ]
}
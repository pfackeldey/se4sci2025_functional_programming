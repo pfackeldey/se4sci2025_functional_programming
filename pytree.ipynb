{
  "nbformat": 4,
  "nbformat_minor": 0,
  "metadata": {
    "colab": {
      "provenance": []
    },
    "kernelspec": {
      "name": "python3",
      "display_name": "Python 3"
    },
    "language_info": {
      "name": "python"
    }
  },
  "cells": [
    {
      "cell_type": "code",
      "execution_count": 1,
      "metadata": {
        "id": "_BC10tTDwQKX"
      },
      "outputs": [],
      "source": [
        "import optree as pt\n",
        "import numpy as np"
      ]
    },
    {
      "cell_type": "code",
      "source": [
        "pytree = ([[{\"foo\": np.array([2.0])}], np.array([3.0])],)"
      ],
      "metadata": {
        "id": "y4iCz9lWaaG8"
      },
      "execution_count": 2,
      "outputs": []
    },
    {
      "cell_type": "code",
      "source": [
        "# sqrt of each leaf array\n",
        "sqrt_pytree = pt.tree_map(np.sqrt, pytree)\n",
        "\n",
        "print(f\"{sqrt_pytree=}\")"
      ],
      "metadata": {
        "colab": {
          "base_uri": "https://localhost:8080/"
        },
        "id": "NKdunGfawu0I",
        "outputId": "657ed8b7-a609-41dd-a2e8-9b153508bb6d"
      },
      "execution_count": 3,
      "outputs": [
        {
          "output_type": "stream",
          "name": "stdout",
          "text": [
            "sqrt_pytree=([[{'foo': array([1.41421356])}], array([1.73205081])],)\n"
          ]
        }
      ]
    },
    {
      "cell_type": "code",
      "source": [
        "# reductions\n",
        "\n",
        "all_positive = pt.tree_all(pt.tree_map(lambda x: x>0.0, pytree))\n",
        "print(f\"{all_positive=}\")\n",
        "\n",
        "summed = pt.tree_reduce(sum, pytree)\n",
        "print(f\"{summed=}\")"
      ],
      "metadata": {
        "colab": {
          "base_uri": "https://localhost:8080/"
        },
        "id": "S1V9H8-nw-h1",
        "outputId": "92f0c73e-4de1-4200-8995-f4b69dffa029"
      },
      "execution_count": 4,
      "outputs": [
        {
          "output_type": "stream",
          "name": "stdout",
          "text": [
            "all_positive=True\n",
            "summed=array([5.])\n"
          ]
        }
      ]
    },
    {
      "cell_type": "code",
      "source": [
        "# Flattening & unflattening\n",
        "arrays, treedef = pt.tree_flatten(pytree)\n",
        "\n",
        "print(f\"{arrays=}\")\n",
        "print(f\"{treedef=}\")\n",
        "\n",
        "pytree_reconstructed = pt.tree_unflatten(treedef, arrays)\n",
        "print(f\"\\n{pytree_reconstructed=}\")"
      ],
      "metadata": {
        "colab": {
          "base_uri": "https://localhost:8080/"
        },
        "id": "J75xfSJuwUzJ",
        "outputId": "63548ccb-855c-45a0-b6d7-e8353f4cbb2f"
      },
      "execution_count": 5,
      "outputs": [
        {
          "output_type": "stream",
          "name": "stdout",
          "text": [
            "arrays=[array([2.]), array([3.])]\n",
            "treedef=PyTreeSpec(([[{'foo': *}], *],))\n",
            "\n",
            "pytree_reconstructed=([[{'foo': array([2.])}], array([3.])],)\n"
          ]
        }
      ]
    },
    {
      "cell_type": "code",
      "source": [
        "import optree as pt\n",
        "from typing import NamedTuple, Callable\n",
        "from scipy.optimize import minimize as sp_minimize\n",
        "\n",
        "\n",
        "class Params(NamedTuple):\n",
        "  x: float\n",
        "  y: float\n",
        "\n",
        "\n",
        "def rosenbrock(params: Params) -> float:\n",
        "  \"\"\"\n",
        "  Rosenbrock function. Minimum: f(1, 1) = 0.\n",
        "\n",
        "  https://en.wikipedia.org/wiki/Rosenbrock_function\n",
        "  \"\"\"\n",
        "  return (1 - params.x) ** 2 + 100 * (params.y - params.x**2) ** 2\n",
        "\n",
        "\n",
        "def minimize(fun: Callable, params: Params) -> Params:\n",
        "  # flatten and store treedef\n",
        "  flat_params, treedef = pt.tree_flatten(params)\n",
        "\n",
        "  # wrap fun to work with flat_params\n",
        "  def wrapped_fun(flat_params: list[float]):\n",
        "    params = pt.tree_unflatten(treedef, flat_params)\n",
        "    return fun(params)\n",
        "\n",
        "  # actual minimization\n",
        "  res = sp_minimize(wrapped_fun, flat_params)\n",
        "\n",
        "  # re-wrap the bestfit values into Params with stored treedef\n",
        "  return pt.tree_unflatten(treedef, res.x)\n",
        "\n",
        "\n",
        "# scipy minimize that works with any PyTree\n",
        "x0 = Params(x=0.9, y=1.2)\n",
        "bestfit_params = minimize(rosenbrock, x0)\n",
        "print(bestfit_params)"
      ],
      "metadata": {
        "colab": {
          "base_uri": "https://localhost:8080/"
        },
        "id": "pNqQAPjKyLO2",
        "outputId": "b42ec821-5a07-4291-aea8-862879825022"
      },
      "execution_count": 6,
      "outputs": [
        {
          "output_type": "stream",
          "name": "stdout",
          "text": [
            "Params(x=np.float64(0.999995688776513), y=np.float64(0.9999913673387226))\n"
          ]
        }
      ]
    },
    {
      "cell_type": "code",
      "source": [
        "from scipy.optimize import minimize\n",
        "\n",
        "def rosenbrock(params: tuple[float]) -> float:\n",
        "  \"\"\"\n",
        "  Rosenbrock function. Minimum: f(1, 1) = 0.\n",
        "\n",
        "  https://en.wikipedia.org/wiki/Rosenbrock_function\n",
        "  \"\"\"\n",
        "  x, y = params\n",
        "  return (1 - x) ** 2 + 100 * (y - x**2) ** 2\n",
        "\n",
        "\n",
        "x0 = (0.9, 1.2)\n",
        "res = minimize(rosenbrock, x0)\n",
        "print(res.x)"
      ],
      "metadata": {
        "colab": {
          "base_uri": "https://localhost:8080/"
        },
        "id": "kTrzfLauDcOA",
        "outputId": "9bb8b1e9-6a67-4d5b-9cdc-da7d50bec637"
      },
      "execution_count": 7,
      "outputs": [
        {
          "output_type": "stream",
          "name": "stdout",
          "text": [
            "[0.99999569 0.99999137]\n"
          ]
        }
      ]
    }
  ]
}